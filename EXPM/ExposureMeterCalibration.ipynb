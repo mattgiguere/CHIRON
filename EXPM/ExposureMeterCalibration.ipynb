{
 "metadata": {
  "name": "",
  "signature": "sha256:d9348c926df8c639ee0b087a06f592ce8c2ff9f680a51cd04ab94f5422f7322c"
 },
 "nbformat": 3,
 "nbformat_minor": 0,
 "worksheets": [
  {
   "cells": [
    {
     "cell_type": "heading",
     "level": 1,
     "metadata": {},
     "source": [
      "Calibration of the CHIRON Exposure Meter"
     ]
    },
    {
     "cell_type": "raw",
     "metadata": {},
     "source": [
      "Here we determine the relation between the exposure meter counts and the SNR per pixel at the blaze peak nearest @ 5500 \u00c5."
     ]
    },
    {
     "cell_type": "code",
     "collapsed": false,
     "input": [
      "%pylab inline\n",
      "plt.rcParams['figure.figsize'] = 16, 12  # that's default image size for this interactive session"
     ],
     "language": "python",
     "metadata": {},
     "outputs": [
      {
       "output_type": "stream",
       "stream": "stdout",
       "text": [
        "Populating the interactive namespace from numpy and matplotlib\n"
       ]
      }
     ],
     "prompt_number": 5
    },
    {
     "cell_type": "code",
     "collapsed": false,
     "input": [
      "from scipy.io.idl import readsav\n",
      "import pylab as pl\n",
      "import numpy as np\n",
      "import os"
     ],
     "language": "python",
     "metadata": {},
     "outputs": [],
     "prompt_number": 6
    },
    {
     "cell_type": "heading",
     "level": 3,
     "metadata": {},
     "source": [
      "Load the subroutines"
     ]
    },
    {
     "cell_type": "code",
     "collapsed": false,
     "input": [
      "def mattdir():\n",
      "\tif os.path.exists('/Users/mattgiguere/'):\n",
      "\t\tmdir = '/Users/mattgiguere/'\n",
      "\telif os.path.exists('/Users/matt/'):\n",
      "\t\tmdir = '/Users/matt/'\n",
      "\telif os.path.exists('/home/matt/'):\n",
      "\t\tmdir = '/home/matt/'\n",
      "\telse:\n",
      "\t\tmdir = ''\n",
      "\tprint \"mdir is: \"+mdir\n",
      "\treturn mdir\n",
      "\t"
     ],
     "language": "python",
     "metadata": {},
     "outputs": []
    },
    {
     "cell_type": "code",
     "collapsed": false,
     "input": [
      "def plot_em(emcts, snr, order, mdir, star, model):\n",
      "\tsimsize = 3\n",
      "\t#clear the window\n",
      "\tpl.clf()\n",
      "\t#set the x-axis\n",
      "\tpl.xlabel('EM Counts / 10^6')\n",
      "\tpl.ylabel('SNR')\n",
      "\tpl.plot(emcts/1e6, snr, 'bo', markersize=simsize)\n",
      "\tprint \"max snr: \"+str(max(snr))\n",
      "\tpl.plot(emcts/1e6, model, 'ro', markersize=simsize)\n",
      "\tstddev = np.std(snr - model)\n",
      "\tprint \"Standard Deviation: \"+str(stddev)\n",
      "    pl.text(.55*max(emcts)/1e6, 0.375*max(snr), 'Polynomial Order: '+str(order))\n",
      "\tpl.text(.55*max(emcts)/1e6, 0.325*max(snr), 'Standard Deviation: {:.3}'.format(stddev))\n",
      "    pl.text(.55*max(emcts)/1e6, 0.425*max(snr),'Star:'+str(order))\n",
      "\t#pl.show()\n",
      "\tpl.savefig(mdir+'projects/OTHER/NOTES/EXPM/em_cts_snr/'+star+'_emcts_snr_ord'+str(order)+'.eps')"
     ],
     "language": "python",
     "metadata": {},
     "outputs": [
      {
       "ename": "IndentationError",
       "evalue": "unindent does not match any outer indentation level (<ipython-input-42-67433aa83d25>, line 13)",
       "output_type": "pyerr",
       "traceback": [
        "\u001b[0;36m  File \u001b[0;32m\"<ipython-input-42-67433aa83d25>\"\u001b[0;36m, line \u001b[0;32m13\u001b[0m\n\u001b[0;31m    pl.text(.55*max(emcts)/1e6, 0.375*max(snr), 'Polynomial Order: '+str(order))\u001b[0m\n\u001b[0m                                                                                ^\u001b[0m\n\u001b[0;31mIndentationError\u001b[0m\u001b[0;31m:\u001b[0m unindent does not match any outer indentation level\n"
       ]
      }
     ],
     "prompt_number": 42
    },
    {
     "cell_type": "code",
     "collapsed": false,
     "input": [
      "def model_em(emcts, snr, ord):\n",
      "\tz = np.polyfit(emcts, snr, ord)\n",
      "\tprint z\n",
      "\tmod = np.zeros(len(emcts))\n",
      "\tfor i in range(ord+1):\n",
      "\t\tmod = mod + z[ord - i] * emcts**i\n",
      "\treturn mod"
     ],
     "language": "python",
     "metadata": {},
     "outputs": [],
     "prompt_number": 35
    },
    {
     "cell_type": "code",
     "collapsed": false,
     "input": [
      "def plot_airmass(snr, model, airmass, order, star):\n",
      "\tgdam = np.where(airmass != 0)[0]\n",
      "\tresids = np.zeros(len(gdam))\n",
      "\tairmgd = np.zeros(len(gdam))\n",
      "\tfor i in range(len(gdam)):\n",
      "\t\tresids[i] = snr[gdam[i]] - model[gdam[i]]\n",
      "\t\tairmgd[i] = airmass[gdam[i]]\n",
      "\tpl.clf()\n",
      "\tpl.xlabel('Airmass')\n",
      "\tpl.ylabel('SNR - Model')\n",
      "\tpl.plot(airmgd, resids, 'ro')\n",
      "\t#pl.show()\n",
      "\tpl.savefig(mdir+'projects/OTHER/NOTES/EXPM/em_airmass/'+star+'_emcts_snr_ord'+str(order)+'.eps')\n",
      "\t"
     ],
     "language": "python",
     "metadata": {},
     "outputs": [],
     "prompt_number": 9
    },
    {
     "cell_type": "code",
     "collapsed": false,
     "input": [
      "def em_calib(star, mdir):\n",
      "\tslogfn = mdir+'data/CHIRPS/starlogs/'+star+'log.dat'\n",
      "\tsl = readsav(slogfn)\n",
      "\t#to print the contents of the \"OBJECT\" tag:\n",
      "\t#sl.starlog.object\n",
      "\tsnrall = sl.starlog.snrbp5500\n",
      "\temavgstr = sl.starlog.emavg\n",
      "\temnumsmpstr = sl.starlog.emnumsmp\n",
      "\tairmassall = sl.starlog.airmass\n",
      "\t#now use only the good ones, the values with velocities:\n",
      "\tgd = np.where(sl.starlog.cmnvel != 0)[0]\n",
      "\t#print gd\n",
      "\tsnr = np.zeros(len(gd))\n",
      "\temavg = np.zeros(len(gd))\n",
      "\temnumsmp = np.zeros(len(gd))\n",
      "\tairmass = np.zeros(len(gd))\n",
      "\t#print len(gd)\n",
      "\tfor i in range(len(gd)):\n",
      "\t\t#print i, airmassall[gd[i]]\n",
      "\t\tsnr[i] = float(snrall[gd[i]])\n",
      "\t\temavg[i] = float(emavgstr[gd[i]])\n",
      "\t\temnumsmp[i] = float(emnumsmpstr[gd[i]])\n",
      "\t\tif str(airmassall[gd[i]]).strip() != 'airmass' and str(airmassall[gd[i]]).strip() != '':\n",
      "\t\t\tairmass[i] = float(airmassall[gd[i]])\n",
      "\temcts = emavg * emnumsmp\n",
      "\treturn emcts, snr, airmass"
     ],
     "language": "python",
     "metadata": {},
     "outputs": [],
     "prompt_number": 10
    },
    {
     "cell_type": "heading",
     "level": 3,
     "metadata": {},
     "source": [
      "Main body"
     ]
    },
    {
     "cell_type": "code",
     "collapsed": false,
     "input": [
      "#Figure out what computer you're on:\n",
      "mdir = mattdir()"
     ],
     "language": "python",
     "metadata": {},
     "outputs": [
      {
       "output_type": "stream",
       "stream": "stdout",
       "text": [
        "mdir is: /Users/matt/\n"
       ]
      }
     ],
     "prompt_number": 11
    },
    {
     "cell_type": "code",
     "collapsed": false,
     "input": [
      "#The polynomial fit for the SNR(emcts). The counts should go as the square of the SNR:\n",
      "order = 2"
     ],
     "language": "python",
     "metadata": {},
     "outputs": [],
     "prompt_number": 26
    },
    {
     "cell_type": "code",
     "collapsed": false,
     "input": [
      "#The star you want to plot:\n",
      "star = '20794'\n"
     ],
     "language": "python",
     "metadata": {},
     "outputs": [],
     "prompt_number": 27
    },
    {
     "cell_type": "code",
     "collapsed": false,
     "input": [
      "{emcts20794, snr20794, airmass20794 = em_calib(star, mdir)}"
     ],
     "language": "python",
     "metadata": {},
     "outputs": [],
     "prompt_number": 31
    },
    {
     "cell_type": "code",
     "collapsed": false,
     "input": [
      "{model20794 = model_em(emcts20794, snr20794, order)}"
     ],
     "language": "python",
     "metadata": {},
     "outputs": [
      {
       "output_type": "stream",
       "stream": "stdout",
       "text": [
        "[ -4.10662690e-12   6.37770892e-05   7.48803834e+01]\n"
       ]
      }
     ],
     "prompt_number": 32
    },
    {
     "cell_type": "code",
     "collapsed": false,
     "input": [
      "plot_em(emcts20794, snr20794, order, mdir, star, model20794)"
     ],
     "language": "python",
     "metadata": {},
     "outputs": [
      {
       "output_type": "stream",
       "stream": "stdout",
       "text": [
        "max snr: 309.293972565\n",
        "Standard Deviation: 5.03746477712\n"
       ]
      },
      {
       "metadata": {},
       "output_type": "display_data",
       "png": "[encoded data removed]",
       "text": [
        "<matplotlib.figure.Figure at 0x108a08310>"
       ]
      }
     ],
     "prompt_number": 33
    },
    {
     "cell_type": "code",
     "collapsed": false,
     "input": [],
     "language": "python",
     "metadata": {},
     "outputs": []
    }
   ],
   "metadata": {}
  }
 ]
}